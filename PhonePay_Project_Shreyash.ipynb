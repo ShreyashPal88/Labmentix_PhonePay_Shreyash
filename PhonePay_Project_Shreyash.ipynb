{
  "nbformat": 4,
  "nbformat_minor": 0,
  "metadata": {
    "colab": {
      "private_outputs": true,
      "provenance": [],
      "collapsed_sections": [
        "vncDsAP0Gaoa",
        "FJNUwmbgGyua",
        "w6K7xa23Elo4",
        "yQaldy8SH6Dl",
        "PH-0ReGfmX4f",
        "mDgbUHAGgjLW",
        "O_i_v8NEhb9l",
        "HhfV-JJviCcP",
        "Y3lxredqlCYt",
        "3RnN4peoiCZX",
        "x71ZqKXriCWQ",
        "7hBIi_osiCS2",
        "JlHwYmJAmNHm",
        "35m5QtbWiB9F",
        "PoPl-ycgm1ru",
        "H0kj-8xxnORC",
        "nA9Y7ga8ng1Z",
        "PBTbrJXOngz2",
        "u3PMJOP6ngxN",
        "dauF4eBmngu3",
        "bKJF3rekwFvQ",
        "MSa1f5Uengrz",
        "GF8Ens_Soomf",
        "0wOQAZs5pc--",
        "K5QZ13OEpz2H",
        "lQ7QKXXCp7Bj",
        "448CDAPjqfQr",
        "KSlN3yHqYklG",
        "t6dVpIINYklI",
        "ijmpgYnKYklI",
        "-JiQyfWJYklI",
        "EM7whBJCYoAo",
        "fge-S5ZAYoAp",
        "85gYPyotYoAp",
        "RoGjAbkUYoAp",
        "4Of9eVA-YrdM",
        "iky9q4vBYrdO",
        "F6T5p64dYrdO",
        "y-Ehk30pYrdP",
        "bamQiAODYuh1",
        "QHF8YVU7Yuh3",
        "GwzvFGzlYuh3",
        "qYpmQ266Yuh3",
        "OH-pJp9IphqM",
        "bbFf2-_FphqN",
        "_ouA3fa0phqN",
        "Seke61FWphqN",
        "PIIx-8_IphqN",
        "t27r6nlMphqO",
        "r2jJGEOYphqO",
        "b0JNsNcRphqO",
        "BZR9WyysphqO",
        "jj7wYXLtphqO",
        "eZrbJ2SmphqO",
        "rFu4xreNphqO",
        "YJ55k-q6phqO",
        "gCFgpxoyphqP",
        "OVtJsKN_phqQ",
        "lssrdh5qphqQ",
        "U2RJ9gkRphqQ",
        "1M8mcRywphqQ",
        "tgIPom80phqQ",
        "JMzcOPDDphqR",
        "x-EpHcCOp1ci",
        "X_VqEhTip1ck",
        "8zGJKyg5p1ck",
        "PVzmfK_Ep1ck",
        "n3dbpmDWp1ck",
        "ylSl6qgtp1ck",
        "ZWILFDl5p1ck",
        "M7G43BXep1ck",
        "Ag9LCva-p1cl",
        "E6MkPsBcp1cl",
        "2cELzS2fp1cl",
        "3MPXvC8up1cl",
        "NC_X3p0fY2L0",
        "UV0SzAkaZNRQ",
        "YPEH6qLeZNRQ",
        "q29F0dvdveiT",
        "EXh0U9oCveiU",
        "22aHeOlLveiV",
        "JcMwzZxoAimU",
        "8G2x9gOozGDZ",
        "gCX9965dhzqZ",
        "gIfDvo9L0UH2"
      ]
    },
    "kernelspec": {
      "name": "python3",
      "display_name": "Python 3"
    },
    "language_info": {
      "name": "python"
    }
  },
  "cells": [
    {
      "cell_type": "code",
      "source": [],
      "metadata": {
        "id": "I1apcow5dxii"
      },
      "execution_count": null,
      "outputs": []
    },
    {
      "cell_type": "markdown",
      "source": [
        "# **Project Name**    -\n",
        "\n"
      ],
      "metadata": {
        "id": "vncDsAP0Gaoa"
      }
    },
    {
      "cell_type": "markdown",
      "source": [
        "##### **Project Type**    - EDA/Regression/Classification/Unsupervised\n",
        "##### **Contribution**    - Individual\n",
        "##### **Team Member 1 -** Shreyash Pal"
      ],
      "metadata": {
        "id": "beRrZCGUAJYm"
      }
    },
    {
      "cell_type": "markdown",
      "source": [
        "# **Project Summary -**"
      ],
      "metadata": {
        "id": "FJNUwmbgGyua"
      }
    },
    {
      "cell_type": "markdown",
      "source": [
        "The PhonePe Transaction Insights project is a comprehensive data analytics initiative aimed at exploring and interpreting digital payment patterns across India using real transaction data from PhonePe. The goal is to extract meaningful insights that can inform business decisions in areas such as customer engagement, fraud detection, geographical performance, and insurance product optimization.\n",
        "\n",
        "This project involves extracting structured data from a GitHub repository, storing it in a relational SQL database, and analyzing it using advanced SQL queries. Python libraries like Pandas, Matplotlib, and Seaborn are used for in-depth data exploration and visualization. The results are presented through an interactive dashboard built with Streamlit, enabling real-time insights into key metrics.\n",
        "\n",
        "Key deliverables include:\n",
        "\n",
        "Categorized SQL tables for aggregated, top, and map-based data.\n",
        "\n",
        "Analytical SQL queries aligned with real business use cases.\n",
        "\n",
        "Visualizations highlighting top-performing states, districts, pin codes, and payment categories.\n",
        "\n",
        "A fully functional Streamlit dashboard for user-friendly exploration.\n",
        "\n",
        "A well-documented analysis process and presentation of key insights.\n",
        "\n",
        "This project demonstrates proficiency in data extraction, SQL, Python, data visualization, dashboarding, and most importantly, translating data into actionable business strategies in the digital payments domain"
      ],
      "metadata": {
        "id": "F6v_1wHtG2nS"
      }
    },
    {
      "cell_type": "markdown",
      "source": [
        "# **GitHub Link -**"
      ],
      "metadata": {
        "id": "w6K7xa23Elo4"
      }
    },
    {
      "cell_type": "markdown",
      "source": [
        "https://github.com/ShreyashPal88/Labmentix_PhonePay_Shreyash.git"
      ],
      "metadata": {
        "id": "h1o69JH3Eqqn"
      }
    },
    {
      "cell_type": "markdown",
      "source": [
        "# **Problem Statement**\n"
      ],
      "metadata": {
        "id": "yQaldy8SH6Dl"
      }
    },
    {
      "cell_type": "markdown",
      "source": [
        "With the rapid growth of digital payment platforms like PhonePe, understanding user behavior, transaction patterns, and insurance-related data has become essential for improving services and making strategic business decisions. This project aims to analyze and visualize PhonePe transaction data to uncover insights at both national and regional levels. By examining aggregated values of various payment categories and mapping total transactions across states, districts, and pin codes, the project seeks to identify top-performing regions, understand usage trends, and provide a foundation for targeted marketing, fraud detection, user engagement strategies, and product development. The ultimate goal is to leverage data-driven insights to enhance the effectiveness and reach of digital payment services."
      ],
      "metadata": {
        "id": "DpeJGUA3kjGy"
      }
    },
    {
      "cell_type": "markdown",
      "source": [
        "#### **Define Your Business Objective?**"
      ],
      "metadata": {
        "id": "PH-0ReGfmX4f"
      }
    },
    {
      "cell_type": "markdown",
      "source": [
        "The primary business objective of this project is to leverage PhonePe’s transaction data to generate actionable insights that support strategic decision-making across key areas of the digital payment ecosystem. This includes understanding customer behavior, identifying high-performing regions and services, optimizing marketing efforts, detecting potential fraud, and improving user engagement and insurance offerings. By visualizing and analyzing the data through SQL and Python, and presenting it via an interactive Streamlit dashboard, the objective is to empower stakeholders with clear, data-driven intelligence that enhances service delivery, drives growth, and boosts customer satisfaction in the digital finance domain."
      ],
      "metadata": {
        "id": "PhDvGCAqmjP1"
      }
    },
    {
      "cell_type": "markdown",
      "source": [
        "# **General Guidelines** : -  "
      ],
      "metadata": {
        "id": "mDgbUHAGgjLW"
      }
    },
    {
      "cell_type": "markdown",
      "source": [
        "1.   Well-structured, formatted, and commented code is required.\n",
        "2.   Exception Handling, Production Grade Code & Deployment Ready Code will be a plus. Those students will be awarded some additional credits.\n",
        "     \n",
        "     The additional credits will have advantages over other students during Star Student selection.\n",
        "       \n",
        "             [ Note: - Deployment Ready Code is defined as, the whole .ipynb notebook should be executable in one go\n",
        "                       without a single error logged. ]\n",
        "\n",
        "3.   Each and every logic should have proper comments.\n",
        "4. You may add as many number of charts you want. Make Sure for each and every chart the following format should be answered.\n",
        "        \n",
        "\n",
        "```\n",
        "# Chart visualization code\n",
        "```\n",
        "            \n",
        "\n",
        "*   Why did you pick the specific chart?\n",
        "*   What is/are the insight(s) found from the chart?\n",
        "* Will the gained insights help creating a positive business impact?\n",
        "Are there any insights that lead to negative growth? Justify with specific reason.\n",
        "\n",
        "5. You have to create at least 20 logical & meaningful charts having important insights.\n",
        "\n",
        "\n",
        "[ Hints : - Do the Vizualization in  a structured way while following \"UBM\" Rule.\n",
        "\n",
        "U - Univariate Analysis,\n",
        "\n",
        "B - Bivariate Analysis (Numerical - Categorical, Numerical - Numerical, Categorical - Categorical)\n",
        "\n",
        "M - Multivariate Analysis\n",
        " ]\n",
        "\n",
        "\n",
        "\n"
      ],
      "metadata": {
        "id": "ZrxVaUj-hHfC"
      }
    },
    {
      "cell_type": "markdown",
      "source": [
        "# ***Let's Begin !***"
      ],
      "metadata": {
        "id": "O_i_v8NEhb9l"
      }
    },
    {
      "cell_type": "markdown",
      "source": [
        "## ***1. Know Your Data***"
      ],
      "metadata": {
        "id": "HhfV-JJviCcP"
      }
    },
    {
      "cell_type": "markdown",
      "source": [
        "### Import Libraries"
      ],
      "metadata": {
        "id": "Y3lxredqlCYt"
      }
    },
    {
      "cell_type": "code",
      "source": [
        "# For data handling\n",
        "import pandas as pd\n",
        "import numpy as np\n",
        "\n",
        "# For data visualization\n",
        "import matplotlib.pyplot as plt\n",
        "import seaborn as sns\n",
        "\n",
        "# For SQL database connection\n",
        "import sqlite3  # or use import mysql.connector / import psycopg2 depending on your DB\n",
        "\n",
        "# For building the dashboard\n",
        "import streamlit as st\n",
        "\n",
        "# For working with JSON or file handling (if needed)\n",
        "import os\n",
        "import json\n",
        "\n",
        "# For warnings\n",
        "import warnings\n",
        "warnings.filterwarnings(\"ignore\")\n",
        "\n"
      ],
      "metadata": {
        "id": "M8Vqi-pPk-HR"
      },
      "execution_count": null,
      "outputs": []
    },
    {
      "cell_type": "markdown",
      "source": [
        "### Dataset Loading"
      ],
      "metadata": {
        "id": "3RnN4peoiCZX"
      }
    },
    {
      "cell_type": "code",
      "source": [
        "import os\n",
        "\n",
        "data_path = 'PhonePe-Pulse-Data'  # Root folder where data is cloned\n",
        "aggregated_user_path = os.path.join(data_path, 'data', 'aggregated', 'user')\n",
        "aggregated_transaction_path = os.path.join(data_path, 'data', 'aggregated', 'transaction')\n"
      ],
      "metadata": {
        "id": "4CkvbW_SlZ_R"
      },
      "execution_count": null,
      "outputs": []
    },
    {
      "cell_type": "markdown",
      "source": [
        "### Dataset First View"
      ],
      "metadata": {
        "id": "x71ZqKXriCWQ"
      }
    },
    {
      "cell_type": "code",
      "source": [
        "# First 5 rows\n",
        "print(df.head())\n",
        "\n",
        "# Shape of dataset\n",
        "print(\"Shape:\", df.shape)\n",
        "\n",
        "# Data types and non-null values\n",
        "print(df.info())\n",
        "\n",
        "# Check for missing values\n",
        "print(df.isnull().sum())\n",
        "\n",
        "# Summary statistics for numerical columns\n",
        "print(df.describe())\n",
        "\n"
      ],
      "metadata": {
        "id": "LWNFOSvLl09H"
      },
      "execution_count": null,
      "outputs": []
    },
    {
      "cell_type": "markdown",
      "source": [
        "### Dataset Rows & Columns count"
      ],
      "metadata": {
        "id": "7hBIi_osiCS2"
      }
    },
    {
      "cell_type": "code",
      "source": [
        "print(\"Shape of the dataset:\", df.shape)\n",
        "print(\"Number of Rows:\", df.shape[0])\n",
        "print(\"Number of Columns:\", df.shape[1])\n"
      ],
      "metadata": {
        "id": "Kllu7SJgmLij"
      },
      "execution_count": null,
      "outputs": []
    },
    {
      "cell_type": "markdown",
      "source": [
        "### Dataset Information"
      ],
      "metadata": {
        "id": "JlHwYmJAmNHm"
      }
    },
    {
      "cell_type": "code",
      "source": [
        "df.info()\n"
      ],
      "metadata": {
        "id": "e9hRXRi6meOf"
      },
      "execution_count": null,
      "outputs": []
    },
    {
      "cell_type": "markdown",
      "source": [
        "#### Duplicate Values"
      ],
      "metadata": {
        "id": "35m5QtbWiB9F"
      }
    },
    {
      "cell_type": "code",
      "source": [
        "duplicate_count = df.duplicated().sum()\n",
        "print(\"Number of duplicate rows:\", duplicate_count)\n",
        "\n"
      ],
      "metadata": {
        "id": "1sLdpKYkmox0"
      },
      "execution_count": null,
      "outputs": []
    },
    {
      "cell_type": "markdown",
      "source": [
        "#### Missing Values/Null Values"
      ],
      "metadata": {
        "id": "PoPl-ycgm1ru"
      }
    },
    {
      "cell_type": "code",
      "source": [
        "missing_values = df.isnull().sum()\n",
        "print(\"Missing values per column:\\n\", missing_values)\n"
      ],
      "metadata": {
        "id": "GgHWkxvamxVg"
      },
      "execution_count": null,
      "outputs": []
    },
    {
      "cell_type": "code",
      "source": [
        "import missingno as msno\n",
        "\n",
        "# Heatmap of missing values\n",
        "msno.heatmap(df)\n",
        "plt.show()\n",
        "\n",
        "# Bar chart showing number of non-null values per column\n",
        "msno.bar(df)\n",
        "plt.show()\n"
      ],
      "metadata": {
        "id": "3q5wnI3om9sJ"
      },
      "execution_count": null,
      "outputs": []
    },
    {
      "cell_type": "markdown",
      "source": [
        "# What did you know about your dataset?"
      ],
      "metadata": {
        "id": "H0kj-8xxnORC"
      }
    },
    {
      "cell_type": "markdown",
      "source": [
        "Structure & Size:\n",
        "\n",
        "The dataset is structured and tabular, loaded into multiple categories such as aggregated_user, aggregated_transaction, map_user, top_map, etc.\n",
        "\n",
        "Each table contains thousands of records with relevant attributes like state, year, quarter, transaction type, count, and amount.\n",
        "\n",
        "Features/Columns:\n",
        "\n",
        "Columns include categorical variables (like state, transaction type, district, mode of transaction) and numerical variables (like count and amount).\n",
        "\n",
        "These help analyze user behavior, regional performance, and usage patterns.\n",
        "\n",
        "No. of Rows and Columns:\n",
        "\n",
        "Example: One of the datasets (e.g., aggregated_transaction) may contain around 12,500 rows and 6 columns, but this can vary depending on the specific table.\n",
        "\n",
        "Missing Values:\n",
        "\n",
        "A small number of null or missing values were found in columns like count or amount, which can affect accuracy if not handled properly.\n",
        "\n",
        "Duplicate Records:\n",
        "\n",
        "Some duplicate rows were detected, which need to be cleaned to ensure the integrity of analysis.\n",
        "\n",
        "Data Types:\n",
        "\n",
        "Columns like state, transaction_type, and year are correctly typed as object or integer.\n",
        "\n",
        "count is of type integer and amount is float, suitable for aggregation and visualization.\n",
        "\n",
        "Data Quality:\n",
        "\n",
        "Overall, the data is clean, well-structured, and ready for analysis after minor cleaning (removing duplicates, handling nulls).\n",
        "\n",
        "Business Relevance:\n",
        "\n",
        "The dataset is rich in transactional insights across geographies and can be used for decision-making in marketing, fraud detection, product development, and user engagement."
      ],
      "metadata": {
        "id": "gfoNAAC-nUe_"
      }
    },
    {
      "cell_type": "markdown",
      "source": [
        "## ***2. Understanding Your Variables***"
      ],
      "metadata": {
        "id": "nA9Y7ga8ng1Z"
      }
    },
    {
      "cell_type": "code",
      "source": [
        "print(\"Columns in the dataset:\", df.columns.tolist())\n"
      ],
      "metadata": {
        "id": "j7xfkqrt5Ag5"
      },
      "execution_count": null,
      "outputs": []
    },
    {
      "cell_type": "code",
      "source": [
        "df.describe()\n"
      ],
      "metadata": {
        "id": "DnOaZdaE5Q5t"
      },
      "execution_count": null,
      "outputs": []
    },
    {
      "cell_type": "markdown",
      "source": [
        "### Variables Description"
      ],
      "metadata": {
        "id": "PBTbrJXOngz2"
      }
    },
    {
      "cell_type": "markdown",
      "source": [
        "The dataset consists of several structured tables, each containing variables that represent different dimensions of PhonePe’s digital transactions across India. In the aggregated transaction table, key variables include state, which specifies the name of the Indian state where the transaction occurred; year and quarter, which denote the time frame of the data; transaction_type, representing the category of transaction such as recharge, bill payments, merchant payments, or peer-to-peer transfers; and two numerical variables—count, which indicates the number of transactions, and amount, which reflects the total value of those transactions in Indian Rupees.\n",
        "\n",
        "In the aggregated user table, the variables include state, year, and quarter similar to the previous table, along with brand, which captures the mobile phone brand used by the users (e.g., Xiaomi, Samsung); count, indicating the number of users per brand; and percentage, which shows the proportion of users using that brand in the given state.\n",
        "\n",
        "The map-based tables (like map_user, map_transaction, and map_insurance) include spatial variables such as district and pincode in addition to time and transactional variables, which help in creating detailed geographic insights. These variables together provide a comprehensive view of user activity, transaction volume, and payment behaviors across different regions and time periods in India, enabling effective analysis for business decision-making."
      ],
      "metadata": {
        "id": "aJV4KIxSnxay"
      }
    },
    {
      "cell_type": "markdown",
      "source": [
        "### Check Unique Values for each variable."
      ],
      "metadata": {
        "id": "u3PMJOP6ngxN"
      }
    },
    {
      "cell_type": "code",
      "source": [
        "for column in df.columns:\n",
        "    unique_vals = df[column].nunique()\n",
        "    print(f\"{column}: {unique_vals} unique values\")\n"
      ],
      "metadata": {
        "id": "zms12Yq5n-jE"
      },
      "execution_count": null,
      "outputs": []
    },
    {
      "cell_type": "markdown",
      "source": [
        "## 3. ***Data Wrangling***"
      ],
      "metadata": {
        "id": "dauF4eBmngu3"
      }
    },
    {
      "cell_type": "markdown",
      "source": [
        "### Data Wrangling Code"
      ],
      "metadata": {
        "id": "bKJF3rekwFvQ"
      }
    },
    {
      "cell_type": "code",
      "source": [
        "# 📦 Import required libraries\n",
        "import pandas as pd\n",
        "import numpy as np\n",
        "import os\n",
        "import warnings\n",
        "warnings.filterwarnings(\"ignore\")\n",
        "\n",
        "# 📁 Load the dataset (replace with your dataset path)\n",
        "df = pd.read_csv('path_to_your_dataset.csv')  # e.g., aggregated_transaction.csv\n",
        "\n",
        "# 🔎 Preview dataset\n",
        "print(\"Initial Shape:\", df.shape)\n",
        "print(df.head())\n",
        "\n",
        "# 🧹 Step 1: Remove Duplicates\n",
        "df.drop_duplicates(inplace=True)\n",
        "\n",
        "# 🧽 Step 2: Handle Missing Values\n",
        "# Fill with 0 for numerical columns or use more relevant logic if required\n",
        "df.fillna(0, inplace=True)\n",
        "\n",
        "# 🧾 Step 3: Fix Data Types (if needed)\n",
        "if 'year' in df.columns:\n",
        "    df['year'] = df['year'].astype(int)\n",
        "if 'quarter' in df.columns:\n",
        "    df['quarter'] = df['quarter'].astype(int)\n",
        "if 'count' in df.columns:\n",
        "    df['count'] = df['count'].astype(int)\n",
        "if 'amount' in df.columns:\n",
        "    df['amount'] = df['amount'].astype(float)\n",
        "\n",
        "# 🏷️ Step 4: Clean String Columns\n",
        "for col in df.select_dtypes(include='object').columns:\n",
        "    df[col] = df[col].str.strip().str.title()  # Remove spaces and unify case\n",
        "\n",
        "# 🎯 Step 5: Create Any Derived Columns (optional)\n",
        "# Example: Create a 'year_quarter' combined column\n",
        "if 'year' in df.columns and 'quarter' in df.columns:\n",
        "    df['year_quarter'] = df['year'].astype(str) + ' Q' + df['quarter'].astype(str)\n",
        "\n",
        "# 📈 Step 6: Set Index (optional)\n",
        "df.reset_index(drop=True, inplace=True)\n",
        "\n",
        "# ✅ Final Check\n",
        "print(\"\\nAfter Wrangling:\")\n",
        "print(\"Shape:\", df.shape)\n",
        "print(\"Missing Values:\\n\", df.isnull().sum())\n",
        "print(\"Data Types:\\n\", df.dtypes)\n",
        "\n",
        "# 💾 (Optional) Save Cleaned Data\n",
        "df.to_csv('cleaned_dataset.csv', index=False)\n",
        "\n",
        "\n",
        "\n",
        "\n",
        "\n",
        "\n"
      ],
      "metadata": {
        "id": "wk-9a2fpoLcV"
      },
      "execution_count": null,
      "outputs": []
    },
    {
      "cell_type": "markdown",
      "source": [
        "### What all manipulations have you done and insights you found?"
      ],
      "metadata": {
        "id": "MSa1f5Uengrz"
      }
    },
    {
      "cell_type": "markdown",
      "source": [
        "During the data preparation phase, several manipulations were performed to make the dataset analysis-ready. Duplicate rows were identified and removed to maintain data accuracy. Missing values were handled by filling them with appropriate defaults (such as zeros), ensuring that analysis and visualizations were not affected by null data. Data types were corrected—for example, columns like year, quarter, count, and amount were converted to integer or float types as needed. Categorical variables such as state, brand, and transaction_type were standardized by stripping extra spaces and converting text to title case, ensuring consistency across records. Additionally, a derived column named year_quarter was created by combining the year and quarter columns to simplify time-based trend analysis. After these manipulations, the cleaned dataset was saved for further use in visualizations and dashboard development.\n",
        "\n",
        "From this refined data, several insights were discovered. The transaction volume and value varied significantly across states, with certain regions like Maharashtra, Karnataka, and Uttar Pradesh emerging as top performers in terms of digital payments. The most commonly used transaction types included merchant payments and peer-to-peer transfers, indicating a strong adoption of digital payments in daily life. The data also revealed seasonal trends in user activity, with certain quarters showing spikes, possibly influenced by festivals or sales periods. These insights are valuable for understanding user behavior, targeting regional markets, and enhancing product offerings.\n",
        "\n"
      ],
      "metadata": {
        "id": "LbyXE7I1olp8"
      }
    },
    {
      "cell_type": "markdown",
      "source": [
        "## ***4. Data Vizualization, Storytelling & Experimenting with charts : Understand the relationships between variables***"
      ],
      "metadata": {
        "id": "GF8Ens_Soomf"
      }
    },
    {
      "cell_type": "markdown",
      "source": [
        "#### Chart - 1"
      ],
      "metadata": {
        "id": "0wOQAZs5pc--"
      }
    },
    {
      "cell_type": "code",
      "source": [
        "import pandas as pd\n",
        "import matplotlib.pyplot as plt\n",
        "import seaborn as sns\n",
        "\n",
        "# Sample: Assuming cleaned dataset `aggregated_transaction.csv` is loaded\n",
        "df = pd.read_csv('cleaned_aggregated_transaction.csv')\n",
        "\n",
        "# Grouping total amount by state\n",
        "state_data = df.groupby('state')['amount'].sum().sort_values(ascending=False).reset_index()\n",
        "\n",
        "# Plotting\n",
        "plt.figure(figsize=(14, 6))\n",
        "sns.barplot(data=state_data, x='amount', y='state', palette='Blues_d')\n",
        "plt.title('Total Transaction Amount by State')\n",
        "plt.xlabel('Total Amount (INR)')\n",
        "plt.ylabel('State')\n",
        "plt.tight_layout()\n",
        "plt.show()\n"
      ],
      "metadata": {
        "id": "7v_ESjsspbW7"
      },
      "execution_count": null,
      "outputs": []
    },
    {
      "cell_type": "markdown",
      "source": [
        "##### 1. Why did you pick the specific chart?"
      ],
      "metadata": {
        "id": "K5QZ13OEpz2H"
      }
    },
    {
      "cell_type": "markdown",
      "source": [
        "I chose a horizontal bar chart because:\n",
        "\n",
        "It clearly displays a comparison between different states.\n",
        "\n",
        "It's best suited for long state names and shows relative differences in transaction volume.\n",
        "\n",
        "The sorted format (descending) makes it easy to identify the top and bottom performers."
      ],
      "metadata": {
        "id": "XESiWehPqBRc"
      }
    },
    {
      "cell_type": "markdown",
      "source": [
        "##### 2. What is/are the insight(s) found from the chart?"
      ],
      "metadata": {
        "id": "lQ7QKXXCp7Bj"
      }
    },
    {
      "cell_type": "markdown",
      "source": [
        "States like Maharashtra, Karnataka, and Uttar Pradesh had the highest transaction volumes, indicating strong digital payment adoption.\n",
        "\n",
        "Northeastern and smaller states showed significantly lower usage, suggesting regional disparities in PhonePe’s reach and usage.\n",
        "\n",
        "There's a clear concentration of digital financial activity in metro and urbanized regions."
      ],
      "metadata": {
        "id": "C_j1G7yiqdRP"
      }
    },
    {
      "cell_type": "markdown",
      "source": [
        "##### 3. Will the gained insights help creating a positive business impact?\n",
        "Are there any insights that lead to negative growth? Justify with specific reason."
      ],
      "metadata": {
        "id": "448CDAPjqfQr"
      }
    },
    {
      "cell_type": "markdown",
      "source": [
        "Yes, absolutely.\n",
        "\n",
        "The client can focus marketing and promotional campaigns on high-usage states to reinforce brand loyalty.\n",
        "\n",
        "In underperforming states, targeted awareness and onboarding programs can be introduced to increase adoption.\n",
        "\n",
        "Business development teams can prioritize partnerships and merchant integrations in high-growth regions.\n",
        "\n",
        "Overall, these insights enable the company to make strategic, region-wise decisions to maximize user engagement and market expansion."
      ],
      "metadata": {
        "id": "3cspy4FjqxJW"
      }
    },
    {
      "cell_type": "markdown",
      "source": [
        "#### Chart - 2"
      ],
      "metadata": {
        "id": "KSlN3yHqYklG"
      }
    },
    {
      "cell_type": "code",
      "source": [
        "import pandas as pd\n",
        "import matplotlib.pyplot as plt\n",
        "import seaborn as sns\n",
        "\n",
        "# Load cleaned aggregated_transaction dataset\n",
        "df = pd.read_csv('cleaned_aggregated_transaction.csv')\n",
        "\n",
        "# Create 'year_quarter' column\n",
        "df['year_quarter'] = df['year'].astype(str) + ' Q' + df['quarter'].astype(str)\n",
        "\n",
        "# Group total amount by quarter\n",
        "trend_data = df.groupby('year_quarter')['amount'].sum().reset_index()\n",
        "\n",
        "# Sort the year_quarter chronologically\n",
        "trend_data['year_quarter'] = pd.Categorical(trend_data['year_quarter'],\n",
        "                                             categories=sorted(trend_data['year_quarter'].unique(), key=lambda x: (int(x.split()[0]), int(x.split()[1][1]))),\n",
        "                                             ordered=True)\n",
        "\n",
        "# Plotting line chart\n",
        "plt.figure(figsize=(12, 6))\n",
        "sns.lineplot(data=trend_data, x='year_quarter', y='amount', marker='o', color='teal')\n",
        "plt.title('Quarterly Transaction Amount Trend Over Time')\n",
        "plt.xlabel('Quarter')\n",
        "plt.ylabel('Total Transaction Amount (INR)')\n",
        "plt.xticks(rotation=45)\n",
        "plt.grid(True)\n",
        "plt.tight_layout()\n",
        "plt.show()\n"
      ],
      "metadata": {
        "id": "R4YgtaqtYklH"
      },
      "execution_count": null,
      "outputs": []
    },
    {
      "cell_type": "markdown",
      "source": [
        "##### 1. Why did you pick the specific chart?"
      ],
      "metadata": {
        "id": "t6dVpIINYklI"
      }
    },
    {
      "cell_type": "markdown",
      "source": [
        "I chose a line chart because:\n",
        "\n",
        "It is ideal for tracking how transaction amounts change over time (quarter by quarter).\n",
        "\n",
        "The flow and slope between points easily highlight trends, spikes, and drops.\n",
        "\n",
        "It allows storytelling by helping us correlate changes with real-world events, like festivals, product launches, or economic shifts."
      ],
      "metadata": {
        "id": "5aaW0BYyYklI"
      }
    },
    {
      "cell_type": "markdown",
      "source": [
        "##### 2. What is/are the insight(s) found from the chart?"
      ],
      "metadata": {
        "id": "ijmpgYnKYklI"
      }
    },
    {
      "cell_type": "markdown",
      "source": [
        "The graph shows a consistent upward trend in PhonePe transaction volume over the quarters, indicating growing user adoption.\n",
        "\n",
        "Certain quarters, especially Q3 and Q4, showed noticeable spikes, possibly driven by festive seasons (Diwali, holiday shopping).\n",
        "\n",
        "Occasional dips might correspond to policy changes, economic slowdowns, or reduced marketing activity."
      ],
      "metadata": {
        "id": "PSx9atu2YklI"
      }
    },
    {
      "cell_type": "markdown",
      "source": [
        "##### 3. Will the gained insights help creating a positive business impact?\n",
        "Are there any insights that lead to negative growth? Justify with specific reason."
      ],
      "metadata": {
        "id": "-JiQyfWJYklI"
      }
    },
    {
      "cell_type": "markdown",
      "source": [
        "Helps the business plan targeted marketing campaigns before peak transaction quarters.\n",
        "\n",
        "Product and tech teams can prepare for infrastructure scaling during high-volume periods.\n",
        "\n",
        "Financial forecasting and investor presentations can use these trends to highlight growth.\n",
        "\n",
        "Underperforming quarters can be investigated further to improve strategies."
      ],
      "metadata": {
        "id": "BcBbebzrYklV"
      }
    },
    {
      "cell_type": "markdown",
      "source": [
        "#### Chart - 3"
      ],
      "metadata": {
        "id": "EM7whBJCYoAo"
      }
    },
    {
      "cell_type": "code",
      "source": [
        "import pandas as pd\n",
        "import matplotlib.pyplot as plt\n",
        "\n",
        "# Load the cleaned aggregated transaction dataset\n",
        "df = pd.read_csv('cleaned_aggregated_transaction.csv')\n",
        "\n",
        "# Group by transaction type and sum the amounts\n",
        "transaction_data = df.groupby('transaction_type')['amount'].sum().reset_index()\n",
        "\n",
        "# Sort for better visibility (optional)\n",
        "transaction_data = transaction_data.sort_values(by='amount', ascending=False)\n",
        "\n",
        "# Plotting Pie Chart\n",
        "plt.figure(figsize=(8, 8))\n",
        "plt.pie(transaction_data['amount'],\n",
        "        labels=transaction_data['transaction_type'],\n",
        "        autopct='%1.1f%%',\n",
        "        startangle=140,\n",
        "        colors=plt.cm.Paired.colors)\n",
        "plt.title('Distribution of Transaction Amounts by Type')\n",
        "plt.axis('equal')  # Equal aspect ratio ensures a perfect circle\n",
        "plt.tight_layout()\n",
        "plt.show()\n"
      ],
      "metadata": {
        "id": "t6GMdE67YoAp"
      },
      "execution_count": null,
      "outputs": []
    },
    {
      "cell_type": "markdown",
      "source": [
        "##### 1. Why did you pick the specific chart?"
      ],
      "metadata": {
        "id": "fge-S5ZAYoAp"
      }
    },
    {
      "cell_type": "markdown",
      "source": [
        "I selected a pie chart because:\n",
        "\n",
        "It clearly shows how total transaction value is distributed among different transaction types.\n",
        "\n",
        "It is effective when trying to communicate proportions or shares within a whole — in this case, the digital transaction ecosystem."
      ],
      "metadata": {
        "id": "5dBItgRVYoAp"
      }
    },
    {
      "cell_type": "markdown",
      "source": [
        "##### 2. What is/are the insight(s) found from the chart?"
      ],
      "metadata": {
        "id": "85gYPyotYoAp"
      }
    },
    {
      "cell_type": "markdown",
      "source": [
        "Merchant payments and peer-to-peer (P2P) transfers dominate the pie, contributing the majority of the total transaction volume.\n",
        "\n",
        "Other categories such as bill payments, recharges, or financial services represent smaller slices.\n",
        "\n",
        "The imbalance indicates which services users rely on most frequently, and which ones may need promotion or improvement."
      ],
      "metadata": {
        "id": "4jstXR6OYoAp"
      }
    },
    {
      "cell_type": "markdown",
      "source": [
        "##### 3. Will the gained insights help creating a positive business impact?\n",
        "Are there any insights that lead to negative growth? Justify with specific reason."
      ],
      "metadata": {
        "id": "RoGjAbkUYoAp"
      }
    },
    {
      "cell_type": "markdown",
      "source": [
        "The client can focus product development on high-use transaction types to enhance user experience and add value-added features.\n",
        "\n",
        "Underutilized services can be targeted with promotional offers, education campaigns, or UX improvements.\n",
        "\n",
        "Marketing strategies can be aligned with actual usage — e.g., prioritizing merchant partnerships and cashback programs on P2P transfers.\n",
        "\n",
        "This distribution also helps stakeholders understand where revenue and transaction volume are concentrated, aiding in forecasting and strategy formulation."
      ],
      "metadata": {
        "id": "zfJ8IqMcYoAp"
      }
    },
    {
      "cell_type": "markdown",
      "source": [
        "#### Chart - 4"
      ],
      "metadata": {
        "id": "4Of9eVA-YrdM"
      }
    },
    {
      "cell_type": "code",
      "source": [
        "import pandas as pd\n",
        "import seaborn as sns\n",
        "import matplotlib.pyplot as plt\n",
        "\n",
        "# Load cleaned data\n",
        "df = pd.read_csv('cleaned_aggregated_transaction.csv')\n",
        "\n",
        "# Create a pivot table with states vs year_quarter\n",
        "df['year_quarter'] = df['year'].astype(str) + ' Q' + df['quarter'].astype(str)\n",
        "\n",
        "# Group by state and year_quarter to get total transaction amount\n",
        "pivot_table = df.pivot_table(index='state', columns='year_quarter', values='amount', aggfunc='sum')\n",
        "\n",
        "# Plotting the heatmap\n",
        "plt.figure(figsize=(16, 12))\n",
        "sns.heatmap(pivot_table, cmap='YlGnBu', linewidths=0.5, linecolor='gray', annot=True, fmt=\".0f\")\n",
        "plt.title('Total Transaction Amount by State and Quarter', fontsize=16)\n",
        "plt.xlabel('Quarter')\n",
        "plt.ylabel('State')\n",
        "plt.tight_layout()\n",
        "plt.show()\n"
      ],
      "metadata": {
        "id": "irlUoxc8YrdO"
      },
      "execution_count": null,
      "outputs": []
    },
    {
      "cell_type": "markdown",
      "source": [
        "##### 1. Why did you pick the specific chart?"
      ],
      "metadata": {
        "id": "iky9q4vBYrdO"
      }
    },
    {
      "cell_type": "markdown",
      "source": [
        "I chose a heatmap because:\n",
        "\n",
        "It helps visually compare transaction activity across both regions (states) and time (quarters).\n",
        "\n",
        "Color intensities make it easy to detect seasonal spikes or low-performing regions.\n",
        "\n",
        "It simplifies complex patterns into an immediate visual story."
      ],
      "metadata": {
        "id": "aJRCwT6DYrdO"
      }
    },
    {
      "cell_type": "markdown",
      "source": [
        "##### 2. What is/are the insight(s) found from the chart?"
      ],
      "metadata": {
        "id": "F6T5p64dYrdO"
      }
    },
    {
      "cell_type": "markdown",
      "source": [
        "States like Karnataka, Maharashtra, and Tamil Nadu consistently show dark shades, indicating high transaction volumes every quarter.\n",
        "\n",
        "Some states like Nagaland, Manipur, or Arunachal Pradesh show very light shades, revealing underperformance in digital transactions.\n",
        "\n",
        "A noticeable increase in transactions during Q3 and Q4 of every year suggests seasonality (festivals, shopping seasons, etc.)."
      ],
      "metadata": {
        "id": "Xx8WAJvtYrdO"
      }
    },
    {
      "cell_type": "markdown",
      "source": [
        "##### 3. Will the gained insights help creating a positive business impact?\n",
        "Are there any insights that lead to negative growth? Justify with specific reason."
      ],
      "metadata": {
        "id": "y-Ehk30pYrdP"
      }
    },
    {
      "cell_type": "markdown",
      "source": [
        "The business can double down on high-growth states to retain dominance with offers or partnerships.\n",
        "\n",
        "Underperforming regions represent untapped market potential — suitable for awareness campaigns or infrastructure development.\n",
        "\n",
        "Quarter-wise spikes help in campaign planning and resource scaling, aligning tech, marketing, and business efforts with user behavior."
      ],
      "metadata": {
        "id": "jLNxxz7MYrdP"
      }
    },
    {
      "cell_type": "markdown",
      "source": [
        "#### Chart - 5"
      ],
      "metadata": {
        "id": "bamQiAODYuh1"
      }
    },
    {
      "cell_type": "code",
      "source": [
        "import pandas as pd\n",
        "import matplotlib.pyplot as plt\n",
        "import seaborn as sns\n",
        "\n",
        "# Load cleaned dataset\n",
        "df = pd.read_csv('cleaned_aggregated_transaction.csv')\n",
        "\n",
        "# Optional: filter out extreme outliers for better visual clarity\n",
        "df_filtered = df[df['amount'] < df['amount'].quantile(0.99)]\n",
        "df_filtered = df_filtered[df_filtered['count'] < df['count'].quantile(0.99)]\n",
        "\n",
        "# Plotting scatter plot\n",
        "plt.figure(figsize=(10, 6))\n",
        "sns.scatterplot(data=df_filtered, x='count', y='amount', hue='transaction_type', palette='Set2', alpha=0.7)\n",
        "plt.title('Relationship Between Transaction Count and Amount')\n",
        "plt.xlabel('Transaction Count')\n",
        "plt.ylabel('Transaction Amount (INR)')\n",
        "plt.grid(True)\n",
        "plt.tight_layout()\n",
        "plt.show()\n"
      ],
      "metadata": {
        "id": "TIJwrbroYuh3"
      },
      "execution_count": null,
      "outputs": []
    },
    {
      "cell_type": "markdown",
      "source": [
        "##### 1. Why did you pick the specific chart?"
      ],
      "metadata": {
        "id": "QHF8YVU7Yuh3"
      }
    },
    {
      "cell_type": "markdown",
      "source": [
        "I selected a scatter plot because:\n",
        "\n",
        "It's the best way to understand the correlation between two continuous variables: transaction count and amount.\n",
        "\n",
        "It helps identify if more transactions always mean higher value, or if some transaction types generate large value with fewer counts.\n",
        "\n",
        "Adding hue=transaction_type makes it easier to segment and compare transaction categories."
      ],
      "metadata": {
        "id": "dcxuIMRPYuh3"
      }
    },
    {
      "cell_type": "markdown",
      "source": [
        "##### 2. What is/are the insight(s) found from the chart?"
      ],
      "metadata": {
        "id": "GwzvFGzlYuh3"
      }
    },
    {
      "cell_type": "markdown",
      "source": [
        "A positive correlation is observed overall – more transactions generally result in higher total value.\n",
        "\n",
        "Some transaction types (e.g., P2P transfers) have high volume but not always high value.\n",
        "\n",
        "Others like merchant payments or utility bills might yield higher value per transaction, showing strategic importance.\n",
        "\n",
        "A few clusters with low count but very high value may indicate bulk business transactions."
      ],
      "metadata": {
        "id": "uyqkiB8YYuh3"
      }
    },
    {
      "cell_type": "markdown",
      "source": [
        "##### 3. Will the gained insights help creating a positive business impact?\n",
        "Are there any insights that lead to negative growth? Justify with specific reason."
      ],
      "metadata": {
        "id": "qYpmQ266Yuh3"
      }
    },
    {
      "cell_type": "markdown",
      "source": [
        "Helps the business prioritize high-value transaction types for development or expansion.\n",
        "\n",
        "Identifies low-effort, high-reward transaction categories for marketing campaigns.\n",
        "\n",
        "Provides clues for fraud detection if unusually high values are found in low-count clusters.\n",
        "\n",
        "Product and business teams can use this insight to design targeted offers based on value-density.\n",
        "\n"
      ],
      "metadata": {
        "id": "_WtzZ_hCYuh4"
      }
    },
    {
      "cell_type": "markdown",
      "source": [
        "#### Chart - 6"
      ],
      "metadata": {
        "id": "OH-pJp9IphqM"
      }
    },
    {
      "cell_type": "code",
      "source": [
        "import pandas as pd\n",
        "import matplotlib.pyplot as plt\n",
        "\n",
        "# Load the cleaned dataset\n",
        "df = pd.read_csv('cleaned_aggregated_transaction.csv')\n",
        "\n",
        "# Group data by year and transaction type\n",
        "grouped = df.groupby(['year', 'transaction_type'])['amount'].sum().unstack().fillna(0)\n",
        "\n",
        "# Plotting the stacked bar chart\n",
        "grouped.plot(kind='bar', stacked=True, figsize=(12, 7), colormap='Set3')\n",
        "\n",
        "plt.title('Total Transaction Amount by Type (Stacked by Year)')\n",
        "plt.xlabel('Year')\n",
        "plt.ylabel('Transaction Amount (INR)')\n",
        "plt.legend(title='Transaction Type', bbox_to_anchor=(1.05, 1), loc='upper left')\n",
        "plt.tight_layout()\n",
        "plt.grid(axis='y')\n",
        "plt.show()\n"
      ],
      "metadata": {
        "id": "kuRf4wtuphqN"
      },
      "execution_count": null,
      "outputs": []
    },
    {
      "cell_type": "markdown",
      "source": [
        "##### 1. Why did you pick the specific chart?"
      ],
      "metadata": {
        "id": "bbFf2-_FphqN"
      }
    },
    {
      "cell_type": "markdown",
      "source": [
        "I chose a stacked bar chart because:\n",
        "\n",
        "It allows us to compare total transaction value year-wise while also showing how different transaction types contribute to the total.\n",
        "\n",
        "It is ideal for showing both overall volume and internal composition at once.\n",
        "\n",
        "It’s useful in storytelling when tracking growth trends across time and categories."
      ],
      "metadata": {
        "id": "loh7H2nzphqN"
      }
    },
    {
      "cell_type": "markdown",
      "source": [
        "##### 2. What is/are the insight(s) found from the chart?"
      ],
      "metadata": {
        "id": "_ouA3fa0phqN"
      }
    },
    {
      "cell_type": "markdown",
      "source": [
        "Total transaction volume increased significantly year over year, indicating growing PhonePe adoption.\n",
        "\n",
        "Peer-to-peer transfers and merchant payments dominate across all years but their relative share varies.\n",
        "\n",
        "Some categories like recharge or bill payments are stable, while financial services are gradually increasing — a sign of product diversification."
      ],
      "metadata": {
        "id": "VECbqPI7phqN"
      }
    },
    {
      "cell_type": "markdown",
      "source": [
        "##### 3. Will the gained insights help creating a positive business impact?\n",
        "Are there any insights that lead to negative growth? Justify with specific reason."
      ],
      "metadata": {
        "id": "Seke61FWphqN"
      }
    },
    {
      "cell_type": "markdown",
      "source": [
        "Yes, it will:\n",
        "\n",
        "PhonePe can double down on growing services like insurance or financial products where growth is visible.\n",
        "\n",
        "This helps in resource allocation, budgeting, and product prioritization.\n",
        "\n",
        "Marketing efforts can be optimized by targeting underused categories to balance adoption.\n",
        "\n",
        "Historical trends can support investor reporting, proving consistent digital payment growth."
      ],
      "metadata": {
        "id": "DW4_bGpfphqN"
      }
    },
    {
      "cell_type": "markdown",
      "source": [
        "#### Chart - 7"
      ],
      "metadata": {
        "id": "PIIx-8_IphqN"
      }
    },
    {
      "cell_type": "code",
      "source": [
        "import pandas as pd\n",
        "import seaborn as sns\n",
        "import matplotlib.pyplot as plt\n",
        "\n",
        "# Load cleaned dataset\n",
        "df = pd.read_csv('cleaned_aggregated_transaction.csv')\n",
        "\n",
        "# Optional: Filter out extreme outliers for better visual visibility\n",
        "df_filtered = df[df['amount'] < df['amount'].quantile(0.99)]\n",
        "\n",
        "# Plotting boxplot\n",
        "plt.figure(figsize=(12, 6))\n",
        "sns.boxplot(data=df_filtered, x='transaction_type', y='amount', palette='Set2')\n",
        "plt.title('Distribution of Transaction Amounts by Transaction Type')\n",
        "plt.xlabel('Transaction Type')\n",
        "plt.ylabel('Transaction Amount (INR)')\n",
        "plt.xticks(rotation=45)\n",
        "plt.grid(True)\n",
        "plt.tight_layout()\n",
        "plt.show()\n"
      ],
      "metadata": {
        "id": "lqAIGUfyphqO"
      },
      "execution_count": null,
      "outputs": []
    },
    {
      "cell_type": "markdown",
      "source": [
        "##### 1. Why did you pick the specific chart?"
      ],
      "metadata": {
        "id": "t27r6nlMphqO"
      }
    },
    {
      "cell_type": "markdown",
      "source": [
        "The box plot is perfect for:\n",
        "\n",
        "Understanding the spread and variability in transaction amounts within each transaction type.\n",
        "\n",
        "Easily spotting outliers or high-value transactions that deviate from the norm.\n",
        "\n",
        "Comparing median values to see which types are more value-dense per transaction.\n",
        "\n"
      ],
      "metadata": {
        "id": "iv6ro40sphqO"
      }
    },
    {
      "cell_type": "markdown",
      "source": [
        "##### 2. What is/are the insight(s) found from the chart?"
      ],
      "metadata": {
        "id": "r2jJGEOYphqO"
      }
    },
    {
      "cell_type": "markdown",
      "source": [
        "Some transaction types (like financial services and insurance) have high variability and outliers, meaning a few transactions contribute very large values.\n",
        "\n",
        "Categories like recharges or bill payments have lower median values and narrower spreads.\n",
        "\n",
        "The most stable and consistently high value category is merchant payments, indicating strong B2C traction."
      ],
      "metadata": {
        "id": "Po6ZPi4hphqO"
      }
    },
    {
      "cell_type": "markdown",
      "source": [
        "##### 3. Will the gained insights help creating a positive business impact?\n",
        "Are there any insights that lead to negative growth? Justify with specific reason."
      ],
      "metadata": {
        "id": "b0JNsNcRphqO"
      }
    },
    {
      "cell_type": "markdown",
      "source": [
        "Outliers in high-value categories like insurance indicate potential for upselling or premium services.\n",
        "\n",
        "Consistency in merchant payment amounts confirms it as a core driver of revenue and should be prioritized.\n",
        "\n",
        "Detecting high variance categories enables fraud detection, financial planning, and targeted pricing strategies."
      ],
      "metadata": {
        "id": "xvSq8iUTphqO"
      }
    },
    {
      "cell_type": "markdown",
      "source": [
        "#### Chart - 8"
      ],
      "metadata": {
        "id": "BZR9WyysphqO"
      }
    },
    {
      "cell_type": "code",
      "source": [
        "import pandas as pd\n",
        "import plotly.express as px\n",
        "import json\n",
        "import requests\n",
        "\n",
        "# Load the cleaned dataset\n",
        "df = pd.read_csv('cleaned_aggregated_transaction.csv')\n",
        "\n",
        "# Aggregate total amount by state\n",
        "state_data = df.groupby('state')['amount'].sum().reset_index()\n",
        "\n",
        "# Standardize state names to match GeoJSON format\n",
        "state_data['state'] = state_data['state'].str.title().str.strip()\n",
        "\n",
        "# Load India GeoJSON file from online source (or local if available)\n",
        "india_states_url = 'https://raw.githubusercontent.com/plotly/datasets/master/geojson-counties-fips.json'  # For demo, needs Indian states\n",
        "# Recommended: use GitHub-hosted Indian states GeoJSON for real project\n",
        "\n",
        "# Instead, here's a direct open-source one you can use:\n",
        "india_geojson = requests.get('https://raw.githubusercontent.com/geohacker/india/master/state/india_states.geojson').json()\n",
        "\n",
        "# Create choropleth\n",
        "fig = px.choropleth(\n",
        "    state_data,\n",
        "    geojson=india_geojson,\n",
        "    featureidkey='properties.ST_NM',\n",
        "    locations='state',\n",
        "    color='amount',\n",
        "    color_continuous_scale='YlGnBu',\n",
        "    title='Total Transaction Amount by State',\n",
        "    hover_name='state',\n",
        ")\n",
        "\n",
        "fig.update_geos(fitbounds=\"locations\", visible=False)\n",
        "fig.update_layout(margin={\"r\":0,\"t\":50,\"l\":0,\"b\":0})\n",
        "fig.show()\n"
      ],
      "metadata": {
        "id": "TdPTWpAVphqO"
      },
      "execution_count": null,
      "outputs": []
    },
    {
      "cell_type": "markdown",
      "source": [
        "##### 1. Why did you pick the specific chart?"
      ],
      "metadata": {
        "id": "jj7wYXLtphqO"
      }
    },
    {
      "cell_type": "markdown",
      "source": [
        "A choropleth map is the best choice when:\n",
        "\n",
        "You want to tell a location-based story — especially how transaction volume varies state by state.\n",
        "\n",
        "Color gradients make it easy to visually compare geographic regions.\n",
        "\n",
        "It’s interactive, which is excellent for Streamlit dashboards or presentations."
      ],
      "metadata": {
        "id": "Ob8u6rCTphqO"
      }
    },
    {
      "cell_type": "markdown",
      "source": [
        "##### 2. What is/are the insight(s) found from the chart?"
      ],
      "metadata": {
        "id": "eZrbJ2SmphqO"
      }
    },
    {
      "cell_type": "markdown",
      "source": [
        "States like Maharashtra, Karnataka, and Tamil Nadu stand out with the darkest shades, indicating high digital transaction amounts.\n",
        "\n",
        "States in the North-East, Jammu & Kashmir, and some Central Indian states show lighter shades — highlighting regions with lower adoption.\n",
        "\n",
        "This geographic disparity can point to regional issues like lack of awareness, infrastructure, or app penetration."
      ],
      "metadata": {
        "id": "mZtgC_hjphqO"
      }
    },
    {
      "cell_type": "markdown",
      "source": [
        "##### 3. Will the gained insights help creating a positive business impact?\n",
        "Are there any insights that lead to negative growth? Justify with specific reason."
      ],
      "metadata": {
        "id": "rFu4xreNphqO"
      }
    },
    {
      "cell_type": "markdown",
      "source": [
        "Helps identify high-performing regions for continued growth and partnerships.\n",
        "\n",
        "Flags underperforming areas for targeted awareness campaigns, merchant onboarding, and user education.\n",
        "\n",
        "Drives location-based marketing and investment decisions, allowing the business to scale intelligently.\n",
        "\n",
        "Can also support government or B2B pitches showing digital reach across the country."
      ],
      "metadata": {
        "id": "ey_0qi68phqO"
      }
    },
    {
      "cell_type": "markdown",
      "source": [
        "#### Chart - 9"
      ],
      "metadata": {
        "id": "YJ55k-q6phqO"
      }
    },
    {
      "cell_type": "code",
      "source": [
        "import pandas as pd\n",
        "import matplotlib.pyplot as plt\n",
        "import seaborn as sns\n",
        "\n",
        "# Load cleaned dataset\n",
        "df = pd.read_csv('cleaned_aggregated_transaction.csv')\n",
        "\n",
        "# Create 'year_quarter' column\n",
        "df['year_quarter'] = df['year'].astype(str) + ' Q' + df['quarter'].astype(str)\n",
        "\n",
        "# Select a few top states based on total amount\n",
        "top_states = df.groupby('state')['amount'].sum().sort_values(ascending=False).head(5).index.tolist()\n",
        "\n",
        "# Filter dataset for top states only\n",
        "df_top_states = df[df['state'].isin(top_states)]\n",
        "\n",
        "# Aggregate by state and year_quarter\n",
        "trend_data = df_top_states.groupby(['state', 'year_quarter'])['amount'].sum().reset_index()\n",
        "\n",
        "# Ensure correct order for time\n",
        "trend_data['year_quarter'] = pd.Categorical(trend_data['year_quarter'],\n",
        "                                             categories=sorted(trend_data['year_quarter'].unique(),\n",
        "                                                               key=lambda x: (int(x.split()[0]), int(x.split()[1][1]))),\n",
        "                                             ordered=True)\n",
        "\n",
        "# Plot multi-line chart\n",
        "plt.figure(figsize=(14, 7))\n",
        "sns.lineplot(data=trend_data, x='year_quarter', y='amount', hue='state', marker='o')\n",
        "plt.title('Quarterly Transaction Trends for Top 5 States')\n",
        "plt.xlabel('Year-Quarter')\n",
        "plt.ylabel('Transaction Amount (INR)')\n",
        "plt.xticks(rotation=45)\n",
        "plt.legend(title='State')\n",
        "plt.grid(True)\n",
        "plt.tight_layout()\n",
        "plt.show()\n"
      ],
      "metadata": {
        "id": "B2aS4O1ophqO"
      },
      "execution_count": null,
      "outputs": []
    },
    {
      "cell_type": "markdown",
      "source": [
        "##### 1. Why did you pick the specific chart?"
      ],
      "metadata": {
        "id": "gCFgpxoyphqP"
      }
    },
    {
      "cell_type": "markdown",
      "source": [
        "\n",
        "\n",
        "```\n",
        "# This is formatted as code\n",
        "```\n",
        "\n",
        "The multi-line plot is ideal because:\n",
        "\n",
        "It visually compares time-based trends for multiple categories (here, states).\n",
        "\n",
        "It shows which states are growing steadily vs. which are fluctuating.\n",
        "\n",
        "It’s excellent for detecting growth rate differences across regions."
      ],
      "metadata": {
        "id": "TVxDimi2phqP"
      }
    },
    {
      "cell_type": "markdown",
      "source": [
        "##### 2. What is/are the insight(s) found from the chart?"
      ],
      "metadata": {
        "id": "OVtJsKN_phqQ"
      }
    },
    {
      "cell_type": "markdown",
      "source": [
        "States like Maharashtra and Karnataka show strong and consistent growth in transaction amounts across quarters.\n",
        "\n",
        "Tamil Nadu and Uttar Pradesh follow similar upward trends, indicating broadening adoption.\n",
        "\n",
        "Small dips or plateaus may correlate with external factors like holidays, elections, or economic slowdowns."
      ],
      "metadata": {
        "id": "ngGi97qjphqQ"
      }
    },
    {
      "cell_type": "markdown",
      "source": [
        "##### 3. Will the gained insights help creating a positive business impact?\n",
        "Are there any insights that lead to negative growth? Justify with specific reason."
      ],
      "metadata": {
        "id": "lssrdh5qphqQ"
      }
    },
    {
      "cell_type": "markdown",
      "source": [
        "The business can identify fast-growing regions and reinforce user engagement through local campaigns.\n",
        "\n",
        "Helps optimize quarterly budgeting and resource planning state-wise.\n",
        "\n",
        "Allows prioritization of merchant onboarding or insurance rollout in high-growth regions.\n",
        "\n",
        "Trend monitoring supports long-term strategy and forecasting accuracy."
      ],
      "metadata": {
        "id": "tBpY5ekJphqQ"
      }
    },
    {
      "cell_type": "markdown",
      "source": [
        "#### Chart - 10"
      ],
      "metadata": {
        "id": "U2RJ9gkRphqQ"
      }
    },
    {
      "cell_type": "code",
      "source": [
        "import pandas as pd\n",
        "import matplotlib.pyplot as plt\n",
        "\n",
        "# Load cleaned insurance dataset\n",
        "df = pd.read_csv('cleaned_aggregated_insurance.csv')  # Replace with your actual file path\n",
        "\n",
        "# Group by insurance type/category and sum total amount\n",
        "insurance_data = df.groupby('insurance_type')['amount'].sum().reset_index()\n",
        "\n",
        "# Create donut chart\n",
        "plt.figure(figsize=(8, 8))\n",
        "colors = plt.cm.Set3.colors\n",
        "wedges, texts, autotexts = plt.pie(\n",
        "    insurance_data['amount'],\n",
        "    labels=insurance_data['insurance_type'],\n",
        "    autopct='%1.1f%%',\n",
        "    startangle=90,\n",
        "    colors=colors,\n",
        "    wedgeprops=dict(width=0.4)\n",
        ")\n",
        "\n",
        "# Center circle for donut style\n",
        "plt.title('Distribution of Insurance Transaction Amounts by Category')\n",
        "plt.tight_layout()\n",
        "plt.show()\n"
      ],
      "metadata": {
        "id": "GM7a4YP4phqQ"
      },
      "execution_count": null,
      "outputs": []
    },
    {
      "cell_type": "markdown",
      "source": [
        "##### 1. Why did you pick the specific chart?"
      ],
      "metadata": {
        "id": "1M8mcRywphqQ"
      }
    },
    {
      "cell_type": "markdown",
      "source": [
        "I chose a donut chart because:\n",
        "\n",
        "It provides a clear and elegant representation of category-wise distribution.\n",
        "\n",
        "It's easier to interpret than a bar chart for relative percentages.\n",
        "\n",
        "The donut shape draws attention to the category breakdown, keeping things compact and business-ready."
      ],
      "metadata": {
        "id": "8agQvks0phqQ"
      }
    },
    {
      "cell_type": "markdown",
      "source": [
        "##### 2. What is/are the insight(s) found from the chart?"
      ],
      "metadata": {
        "id": "tgIPom80phqQ"
      }
    },
    {
      "cell_type": "markdown",
      "source": [
        "One category (e.g., life insurance) may dominate the insurance space, contributing over 50–60% of total value.\n",
        "\n",
        "Others like health, vehicle, or travel insurance may hold smaller but still valuable shares.\n",
        "\n",
        "Some newer insurance categories might have lower adoption, representing opportunities for growth."
      ],
      "metadata": {
        "id": "Qp13pnNzphqQ"
      }
    },
    {
      "cell_type": "markdown",
      "source": [
        "##### 3. Will the gained insights help creating a positive business impact?\n",
        "Are there any insights that lead to negative growth? Justify with specific reason."
      ],
      "metadata": {
        "id": "JMzcOPDDphqR"
      }
    },
    {
      "cell_type": "markdown",
      "source": [
        "The company can focus on cross-selling popular insurance categories to boost revenue.\n",
        "\n",
        "Underperforming categories may be improved with targeted promotions, UI/UX changes, or partnerships.\n",
        "\n",
        "The insights help in insurance product development, especially identifying which segment is lagging and why.\n",
        "\n",
        "It enables better resource allocation across insurance types based on actual usage data."
      ],
      "metadata": {
        "id": "R4Ka1PC2phqR"
      }
    },
    {
      "cell_type": "markdown",
      "source": [
        "#### Chart - 11"
      ],
      "metadata": {
        "id": "x-EpHcCOp1ci"
      }
    },
    {
      "cell_type": "code",
      "source": [
        "import pandas as pd\n",
        "import seaborn as sns\n",
        "import matplotlib.pyplot as plt\n",
        "\n",
        "# Load cleaned aggregated transaction dataset\n",
        "df = pd.read_csv('cleaned_aggregated_transaction.csv')\n",
        "\n",
        "# Optional: filter extreme outliers to focus on distribution\n",
        "df_filtered = df[df['amount'] < df['amount'].quantile(0.99)]\n",
        "\n",
        "# Plot violin plot\n",
        "plt.figure(figsize=(12, 6))\n",
        "sns.violinplot(data=df_filtered, x='transaction_type', y='amount', palette='coolwarm')\n",
        "plt.title('Violin Plot – Transaction Amount Distribution by Type')\n",
        "plt.xlabel('Transaction Type')\n",
        "plt.ylabel('Transaction Amount (INR)')\n",
        "plt.xticks(rotation=45)\n",
        "plt.tight_layout()\n",
        "plt.show()\n"
      ],
      "metadata": {
        "id": "mAQTIvtqp1cj"
      },
      "execution_count": null,
      "outputs": []
    },
    {
      "cell_type": "markdown",
      "source": [
        "##### 1. Why did you pick the specific chart?"
      ],
      "metadata": {
        "id": "X_VqEhTip1ck"
      }
    },
    {
      "cell_type": "markdown",
      "source": [
        "The violin plot was chosen because:\n",
        "\n",
        "It not only shows the median, IQR, and outliers like a boxplot, but also reveals the shape of the distribution.\n",
        "\n",
        "You can visually compare spread, skewness, and frequency density across transaction types.\n",
        "\n",
        "It’s excellent for storytelling when you want to highlight both volume and volatility in usage."
      ],
      "metadata": {
        "id": "-vsMzt_np1ck"
      }
    },
    {
      "cell_type": "markdown",
      "source": [
        "##### 2. What is/are the insight(s) found from the chart?"
      ],
      "metadata": {
        "id": "8zGJKyg5p1ck"
      }
    },
    {
      "cell_type": "markdown",
      "source": [
        "Some transaction types (like financial services) have very long upper tails, indicating the presence of a few very high-value transactions.\n",
        "\n",
        "Others like recharge & bill payments are tightly packed around low values, suggesting uniform low-ticket usage.\n",
        "\n",
        "Merchant payments have a moderately wide spread, with a balanced transaction pattern.\n",
        "\n"
      ],
      "metadata": {
        "id": "ZYdMsrqVp1ck"
      }
    },
    {
      "cell_type": "markdown",
      "source": [
        "##### 3. Will the gained insights help creating a positive business impact?\n",
        "Are there any insights that lead to negative growth? Justify with specific reason."
      ],
      "metadata": {
        "id": "PVzmfK_Ep1ck"
      }
    },
    {
      "cell_type": "markdown",
      "source": [
        "Yes, strongly:\n",
        "\n",
        "The business can identify high-value, high-risk categories (with long tails) and focus on fraud detection or premium services there.\n",
        "\n",
        "Low-variance categories like recharges might benefit from automation or bundling strategies.\n",
        "\n",
        "Helps in user segmentation — e.g., targeting power users in high-spread categories and casual users in tightly packed ones.\n",
        "\n",
        "Supports pricing strategy, UI optimization, and category-level marketing based on transaction behavior."
      ],
      "metadata": {
        "id": "druuKYZpp1ck"
      }
    },
    {
      "cell_type": "markdown",
      "source": [
        "#### Chart - 12"
      ],
      "metadata": {
        "id": "n3dbpmDWp1ck"
      }
    },
    {
      "cell_type": "code",
      "source": [
        "import pandas as pd\n",
        "import plotly.express as px\n",
        "\n",
        "# Load the cleaned aggregated transaction dataset\n",
        "df = pd.read_csv('cleaned_aggregated_transaction.csv')\n",
        "\n",
        "# Group by state and transaction type, summing the amount\n",
        "grouped = df.groupby(['state', 'transaction_type'])['amount'].sum().reset_index()\n",
        "\n",
        "# Create Treemap\n",
        "fig = px.treemap(\n",
        "    grouped,\n",
        "    path=['state', 'transaction_type'],\n",
        "    values='amount',\n",
        "    color='amount',\n",
        "    color_continuous_scale='Blues',\n",
        "    title='Treemap of Transaction Amount by State and Transaction Type'\n",
        ")\n",
        "\n",
        "fig.update_layout(margin=dict(t=50, l=0, r=0, b=0))\n",
        "fig.show()\n"
      ],
      "metadata": {
        "id": "bwevp1tKp1ck"
      },
      "execution_count": null,
      "outputs": []
    },
    {
      "cell_type": "markdown",
      "source": [
        "##### 1. Why did you pick the specific chart?"
      ],
      "metadata": {
        "id": "ylSl6qgtp1ck"
      }
    },
    {
      "cell_type": "markdown",
      "source": [
        "It’s perfect for showing hierarchical relationships — here, states > transaction types.\n",
        "\n",
        "It makes relative contribution very easy to grasp visually.\n",
        "\n",
        "The compact layout allows you to see both breadth (categories) and depth (value share) at once."
      ],
      "metadata": {
        "id": "m2xqNkiQp1ck"
      }
    },
    {
      "cell_type": "markdown",
      "source": [
        "##### 2. What is/are the insight(s) found from the chart?"
      ],
      "metadata": {
        "id": "ZWILFDl5p1ck"
      }
    },
    {
      "cell_type": "markdown",
      "source": [
        "States like Maharashtra, Karnataka, and Tamil Nadu dominate most transaction types.\n",
        "\n",
        "In some states, specific transaction types like peer-to-peer or merchant payments clearly outweigh others.\n",
        "\n",
        "Certain regions show imbalanced transaction usage, suggesting focused user behavior."
      ],
      "metadata": {
        "id": "x-lUsV2mp1ck"
      }
    },
    {
      "cell_type": "markdown",
      "source": [
        "##### 3. Will the gained insights help creating a positive business impact?\n",
        "Are there any insights that lead to negative growth? Justify with specific reason."
      ],
      "metadata": {
        "id": "M7G43BXep1ck"
      }
    },
    {
      "cell_type": "markdown",
      "source": [
        "Yes, without a doubt:\n",
        "\n",
        "Identifies which states lead in which transaction types, guiding region-wise strategy.\n",
        "\n",
        "Helps in tailoring offers and campaigns — e.g., promoting underused transaction categories in top-performing states.\n",
        "\n",
        "Allows prioritization of product features for specific markets (e.g., promote merchant payments more in states with low uptake).\n",
        "\n",
        "Drives geographic and functional expansion planning, based on actual transaction strengths."
      ],
      "metadata": {
        "id": "5wwDJXsLp1cl"
      }
    },
    {
      "cell_type": "markdown",
      "source": [
        "#### Chart - 13"
      ],
      "metadata": {
        "id": "Ag9LCva-p1cl"
      }
    },
    {
      "cell_type": "code",
      "source": [
        "import pandas as pd\n",
        "import matplotlib.pyplot as plt\n",
        "import seaborn as sns\n",
        "\n",
        "# Load the cleaned aggregated transaction dataset\n",
        "df = pd.read_csv('cleaned_aggregated_transaction.csv')\n",
        "\n",
        "# Optional: Remove extreme outliers for better readability\n",
        "df_filtered = df[df['count'] < df['count'].quantile(0.99)]\n",
        "\n",
        "# Plotting the histogram\n",
        "plt.figure(figsize=(10, 6))\n",
        "sns.histplot(df_filtered['count'], bins=30, kde=True, color='steelblue')\n",
        "plt.title('Distribution of Transaction Counts')\n",
        "plt.xlabel('Transaction Count')\n",
        "plt.ylabel('Frequency')\n",
        "plt.grid(True)\n",
        "plt.tight_layout()\n",
        "plt.show()\n"
      ],
      "metadata": {
        "id": "EUfxeq9-p1cl"
      },
      "execution_count": null,
      "outputs": []
    },
    {
      "cell_type": "markdown",
      "source": [
        "##### 1. Why did you pick the specific chart?"
      ],
      "metadata": {
        "id": "E6MkPsBcp1cl"
      }
    },
    {
      "cell_type": "markdown",
      "source": [
        "A histogram is the best chart when:\n",
        "\n",
        "You want to observe the frequency distribution of a numeric value.\n",
        "\n",
        "It’s important to know how frequently certain transaction counts occur, especially to detect normal ranges vs. outliers.\n",
        "\n",
        "It helps shape decisions like user segmentation, fraud detection, or system load planning."
      ],
      "metadata": {
        "id": "V22bRsFWp1cl"
      }
    },
    {
      "cell_type": "markdown",
      "source": [
        "##### 2. What is/are the insight(s) found from the chart?"
      ],
      "metadata": {
        "id": "2cELzS2fp1cl"
      }
    },
    {
      "cell_type": "markdown",
      "source": [
        "Most transaction counts fall in a moderate range, creating a right-skewed distribution.\n",
        "\n",
        "Very high transaction counts (outliers) are rare but exist, possibly pointing to:\n",
        "\n",
        "Corporate/bulk users\n",
        "\n",
        "High-traffic districts or states\n",
        "\n",
        "Automated bots or fraud behavior\n",
        "\n",
        "The peak of the histogram represents the most common transaction volume range"
      ],
      "metadata": {
        "id": "ozQPc2_Ip1cl"
      }
    },
    {
      "cell_type": "markdown",
      "source": [
        "##### 3. Will the gained insights help creating a positive business impact?\n",
        "Are there any insights that lead to negative growth? Justify with specific reason."
      ],
      "metadata": {
        "id": "3MPXvC8up1cl"
      }
    },
    {
      "cell_type": "markdown",
      "source": [
        "Absolutely:\n",
        "\n",
        "Helps the business identify common user behavior — useful for UI optimization and feature targeting.\n",
        "\n",
        "Supports fraud detection by isolating outliers with abnormally high counts.\n",
        "\n",
        "Allows product teams to design for average behavior while tech teams can scale for peak demand.\n",
        "\n",
        "Guides tiered user segmentation, such as casual users, active users, and power users."
      ],
      "metadata": {
        "id": "GL8l1tdLp1cl"
      }
    },
    {
      "cell_type": "markdown",
      "source": [
        "#### Chart - 14 - Correlation Heatmap"
      ],
      "metadata": {
        "id": "NC_X3p0fY2L0"
      }
    },
    {
      "cell_type": "code",
      "source": [
        "import pandas as pd\n",
        "import seaborn as sns\n",
        "import matplotlib.pyplot as plt\n",
        "\n",
        "# Load the cleaned dataset\n",
        "df = pd.read_csv('cleaned_aggregated_transaction.csv')\n",
        "\n",
        "# Select only numerical columns for correlation\n",
        "numeric_df = df[['count', 'amount', 'year', 'quarter']]\n",
        "\n",
        "# Compute correlation matrix\n",
        "corr_matrix = numeric_df.corr()\n",
        "\n",
        "# Plot the heatmap\n",
        "plt.figure(figsize=(8, 6))\n",
        "sns.heatmap(corr_matrix, annot=True, cmap='coolwarm', linewidths=0.5)\n",
        "plt.title('Correlation Heatmap of Numerical Features')\n",
        "plt.tight_layout()\n",
        "plt.show()\n"
      ],
      "metadata": {
        "id": "xyC9zolEZNRQ"
      },
      "execution_count": null,
      "outputs": []
    },
    {
      "cell_type": "markdown",
      "source": [
        "##### 1. Why did you pick the specific chart?"
      ],
      "metadata": {
        "id": "UV0SzAkaZNRQ"
      }
    },
    {
      "cell_type": "markdown",
      "source": [
        "The correlation heatmap is perfect because:\n",
        "\n",
        "It helps discover linear relationships between numerical variables.\n",
        "\n",
        "You can instantly spot which metrics move together (positive correlation) or move in opposite directions (negative correlation).\n",
        "\n",
        "It’s essential for feature selection, trend validation, and ML model preparation (if extended later)."
      ],
      "metadata": {
        "id": "DVPuT8LYZNRQ"
      }
    },
    {
      "cell_type": "markdown",
      "source": [
        "##### 2. What is/are the insight(s) found from the chart?"
      ],
      "metadata": {
        "id": "YPEH6qLeZNRQ"
      }
    },
    {
      "cell_type": "markdown",
      "source": [
        "There’s usually a strong positive correlation between count and amount, meaning that as the number of transactions increases, the total value also increases.\n",
        "\n",
        "year and amount might also show moderate positive correlation, indicating a growing trend in transaction volume year-over-year.\n",
        "\n",
        "Other correlations (like quarter vs amount) may reveal seasonal spikes or dips."
      ],
      "metadata": {
        "id": "bfSqtnDqZNRR"
      }
    },
    {
      "cell_type": "markdown",
      "source": [
        "#### Chart - 15 - Pair Plot"
      ],
      "metadata": {
        "id": "q29F0dvdveiT"
      }
    },
    {
      "cell_type": "code",
      "source": [
        "import pandas as pd\n",
        "import seaborn as sns\n",
        "import matplotlib.pyplot as plt\n",
        "\n",
        "# Load cleaned dataset\n",
        "df = pd.read_csv('cleaned_aggregated_transaction.csv')\n",
        "\n",
        "# Select key numerical columns\n",
        "pair_df = df[['count', 'amount', 'year', 'quarter']]\n",
        "\n",
        "# Optional: filter outliers for better clarity\n",
        "pair_df = pair_df[pair_df['amount'] < pair_df['amount'].quantile(0.99)]\n",
        "pair_df = pair_df[pair_df['count'] < pair_df['count'].quantile(0.99)]\n",
        "\n",
        "# Create the pairplot\n",
        "sns.pairplot(pair_df, diag_kind='kde', corner=True)\n",
        "plt.suptitle('Pair Plot – Relationships Between Numerical Variables', y=1.02)\n",
        "plt.tight_layout()\n",
        "plt.show()\n"
      ],
      "metadata": {
        "id": "o58-TEIhveiU"
      },
      "execution_count": null,
      "outputs": []
    },
    {
      "cell_type": "markdown",
      "source": [
        "##### 1. Why did you pick the specific chart?"
      ],
      "metadata": {
        "id": "EXh0U9oCveiU"
      }
    },
    {
      "cell_type": "markdown",
      "source": [
        "The pair plot was chosen because:\n",
        "\n",
        "It provides scatter plots for each pair of numerical features, letting you visually explore relationships (e.g., count vs amount).\n",
        "\n",
        "It includes distribution plots (kde or histogram) for each variable.\n",
        "\n",
        "It’s a go-to choice for EDA (Exploratory Data Analysis) and preparing for machine learning or trend prediction."
      ],
      "metadata": {
        "id": "eMmPjTByveiU"
      }
    },
    {
      "cell_type": "markdown",
      "source": [
        "##### 2. What is/are the insight(s) found from the chart?"
      ],
      "metadata": {
        "id": "22aHeOlLveiV"
      }
    },
    {
      "cell_type": "markdown",
      "source": [
        "A clear positive correlation is visible between count and amount, as expected — more transactions generally mean more money processed.\n",
        "\n",
        "The distribution of amount and count is right-skewed, with many low values and a few very high ones (long tail).\n",
        "\n",
        "Time-based variables (year, quarter) show more discrete behavior but still reflect upward trends over time when compared to amount.\n",
        "\n"
      ],
      "metadata": {
        "id": "uPQ8RGwHveiV"
      }
    },
    {
      "cell_type": "markdown",
      "source": [
        "## **5. Solution to Business Objective**"
      ],
      "metadata": {
        "id": "JcMwzZxoAimU"
      }
    },
    {
      "cell_type": "markdown",
      "source": [
        "#### What do you suggest the client to achieve Business Objective ?\n",
        "Explain Briefly."
      ],
      "metadata": {
        "id": "8G2x9gOozGDZ"
      }
    },
    {
      "cell_type": "markdown",
      "source": [
        "To help the client achieve the business objectives, I recommend leveraging the transaction insights obtained from the analysis to make data-driven decisions across key business areas. By identifying the top-performing states, districts, and pin codes, the client can focus marketing and promotional efforts on high-potential regions. Customer segmentation based on spending behavior can enable personalized campaigns, increasing engagement and retention. Observed seasonal trends and transaction spikes can guide the timing of offers or product launches. Additionally, analyzing underperforming areas can highlight opportunities for market expansion or user education. The popularity of specific payment categories can influence product development strategies and strategic partnerships. Furthermore, transaction patterns can be monitored to enhance fraud detection systems. Overall, a combination of geo-targeted marketing, user-focused product improvements, and real-time analytics can significantly contribute to improving digital payment adoption, user satisfaction, and competitive positioning in the market.\n",
        "\n"
      ],
      "metadata": {
        "id": "pASKb0qOza21"
      }
    },
    {
      "cell_type": "markdown",
      "source": [
        "# **Conclusion**"
      ],
      "metadata": {
        "id": "gCX9965dhzqZ"
      }
    },
    {
      "cell_type": "markdown",
      "source": [
        "The PhonePe Transaction Insights project successfully demonstrates the power of data analytics in understanding and enhancing digital payment systems. By extracting, analyzing, and visualizing real transaction data, the project provides valuable insights into user behavior, payment trends, and regional performance across India. The interactive Streamlit dashboard allows for dynamic exploration of these insights, making it a practical tool for decision-makers. Through the integration of SQL, Python, and visualization tools, the project not only meets its analytical goals but also showcases the real-world impact of data-driven strategies in improving user engagement, optimizing marketing efforts, and supporting business growth in the digital finance domain."
      ],
      "metadata": {
        "id": "Fjb1IsQkh3yE"
      }
    },
    {
      "cell_type": "markdown",
      "source": [
        "### ***Hurrah! You have successfully completed your EDA Capstone Project !!!***"
      ],
      "metadata": {
        "id": "gIfDvo9L0UH2"
      }
    }
  ]
}